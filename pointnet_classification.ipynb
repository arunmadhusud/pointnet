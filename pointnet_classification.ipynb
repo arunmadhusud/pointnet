{
  "cells": [
    {
      "cell_type": "markdown",
      "metadata": {
        "id": "view-in-github",
        "colab_type": "text"
      },
      "source": [
        "<a href=\"https://colab.research.google.com/github/arunmadhusud/pointnet/blob/main/pointnet_classification.ipynb\" target=\"_parent\"><img src=\"https://colab.research.google.com/assets/colab-badge.svg\" alt=\"Open In Colab\"/></a>"
      ]
    },
    {
      "cell_type": "markdown",
      "source": [
        "# Setup"
      ],
      "metadata": {
        "id": "GDV69Fp49bWT"
      }
    },
    {
      "cell_type": "code",
      "source": [
        "# install open3d\n",
        "!pip install open3d"
      ],
      "metadata": {
        "id": "YsQhN78nF4F6"
      },
      "execution_count": null,
      "outputs": []
    },
    {
      "cell_type": "code",
      "execution_count": null,
      "metadata": {
        "id": "gjnmmFlgCoXZ",
        "outputId": "784944b0-2d27-4275-e68e-c861928c19ae",
        "colab": {
          "base_uri": "https://localhost:8080/"
        }
      },
      "outputs": [
        {
          "output_type": "stream",
          "name": "stdout",
          "text": [
            "WARNING: cannot verify shapenet.cs.stanford.edu's certificate, issued by ‘CN=InCommon RSA Server CA,OU=InCommon,O=Internet2,L=Ann Arbor,ST=MI,C=US’:\n",
            "  Issued certificate has expired.\n",
            "2024-07-15 19:08:51 URL:https://shapenet.cs.stanford.edu/ericyi/shapenetcore_partanno_segmentation_benchmark_v0.zip [666265910/666265910] -> \"shapenetcore_partanno_segmentation_benchmark_v0.zip\" [1]\n"
          ]
        }
      ],
      "source": [
        "# Download ShapeNet Dataset\n",
        "!wget -nv https://shapenet.cs.stanford.edu/ericyi/shapenetcore_partanno_segmentation_benchmark_v0.zip --no-check-certificate"
      ]
    },
    {
      "cell_type": "code",
      "execution_count": null,
      "metadata": {
        "id": "fCDrh2gnCoXZ"
      },
      "outputs": [],
      "source": [
        "# Unzip Datataset\n",
        "!unzip shapenetcore_partanno_segmentation_benchmark_v0.zip"
      ]
    },
    {
      "cell_type": "markdown",
      "source": [
        "# Model\n"
      ],
      "metadata": {
        "id": "1NQwX4AD9miY"
      }
    },
    {
      "cell_type": "code",
      "execution_count": null,
      "metadata": {
        "id": "X5dBsvwHCoXV"
      },
      "outputs": [],
      "source": [
        "import torch\n",
        "import torch.nn as nn\n",
        "import torch.nn.functional as F"
      ]
    },
    {
      "cell_type": "code",
      "execution_count": null,
      "metadata": {
        "colab": {
          "base_uri": "https://localhost:8080/"
        },
        "id": "9Yf5ZjxmCoXW",
        "outputId": "0ad5a737-b2f3-4948-fd33-8f350a11834f"
      },
      "outputs": [
        {
          "output_type": "stream",
          "name": "stdout",
          "text": [
            "Input shape: torch.Size([32, 3, 2500])\n",
            "Output shape: torch.Size([32, 3, 3])\n",
            "Tnet test passed successfully!\n",
            "\n",
            "Sample output matrix:\n",
            "tensor([[ 0.5255,  0.3057, -0.2582],\n",
            "        [-0.1083,  0.3084,  0.0738],\n",
            "        [-0.2267,  0.0639,  1.8286]], grad_fn=<SelectBackward0>)\n"
          ]
        }
      ],
      "source": [
        "\n",
        "class Tnet(nn.Module):\n",
        "    def __init__(self, k, num_points = 2500):\n",
        "        super(Tnet, self).__init__()\n",
        "\n",
        "        self.dim = k\n",
        "\n",
        "        # Define convolutional layers\n",
        "        self.conv1 = nn.Conv1d(k, 64, kernel_size=1)\n",
        "        self.conv2 = nn.Conv1d(64, 128, kernel_size=1)\n",
        "        self.conv3 = nn.Conv1d(128, 1024, kernel_size=1)\n",
        "\n",
        "        # Define linear layers\n",
        "        self.linear1 = nn.Linear(1024, 512)\n",
        "        self.linear2 = nn.Linear(512, 256)\n",
        "        self.linear3 = nn.Linear(256, k * k)\n",
        "\n",
        "        # Define batch normalization layers\n",
        "        self.bn1 = nn.BatchNorm1d(64)\n",
        "        self.bn2 = nn.BatchNorm1d(128)\n",
        "        self.bn3 = nn.BatchNorm1d(1024)\n",
        "        self.bn4 = nn.BatchNorm1d(512)\n",
        "        self.bn5 = nn.BatchNorm1d(256)\n",
        "\n",
        "        # Define max pooling layer\n",
        "        self.max_pool = nn.MaxPool1d(kernel_size=num_points)\n",
        "\n",
        "    def forward(self, x):\n",
        "        bs = x.shape[0]  # Batch size\n",
        "\n",
        "        # Apply first convolution, batch norm, and ReLU activation\n",
        "        x = F.relu(self.bn1(self.conv1(x)))\n",
        "        # Apply second convolution, batch norm, and ReLU activation\n",
        "        x = F.relu(self.bn2(self.conv2(x)))\n",
        "        # Apply third convolution, batch norm, and ReLU activation\n",
        "        x = F.relu(self.bn3(self.conv3(x)))\n",
        "\n",
        "        # Apply max pooling\n",
        "        x = self.max_pool(x)\n",
        "        # Flatten the output\n",
        "        x = x.view(bs, -1)\n",
        "\n",
        "        # Apply first linear layer, batch norm, and ReLU activation\n",
        "        x = F.relu(self.bn4(self.linear1(x)))\n",
        "        # Apply second linear layer, batch norm, and ReLU activation\n",
        "        x = F.relu(self.bn5(self.linear2(x)))\n",
        "        # Apply third linear layer to get the transformation matrix\n",
        "        x = self.linear3(x)\n",
        "\n",
        "        # Create an identity matrix of size k*k\n",
        "        i_mat = torch.eye(self.dim, requires_grad=True).repeat(bs, 1, 1)\n",
        "\n",
        "        # Move the identity matrix to GPU if the input is on GPU\n",
        "        if x.is_cuda:\n",
        "            i_mat = i_mat.cuda()\n",
        "\n",
        "        # Reshape the output to a batch of k*k matrices and add the identity matrix\n",
        "        x = x.view(-1, self.dim, self.dim) + i_mat\n",
        "\n",
        "        return x\n",
        "\n",
        "\n",
        "#function to test the Tnet\n",
        "def test_tnet(k, batch_size, num_points):\n",
        "    # Create an instance of Tnet\n",
        "    tnet = Tnet(k,num_points)\n",
        "\n",
        "    # Create a dummy input\n",
        "    # Shape: [batch_size, k, num_points]\n",
        "    dummy_input = torch.randn(batch_size, k, num_points)\n",
        "\n",
        "    # Pass the dummy input through the Tnet\n",
        "    output = tnet(dummy_input)\n",
        "\n",
        "    # Print shapes\n",
        "    print(f\"Input shape: {dummy_input.shape}\")\n",
        "    print(f\"Output shape: {output.shape}\")\n",
        "\n",
        "    # Check if the output is a batch of k*k matrices\n",
        "    assert output.shape == (batch_size, k, k), f\"Expected output shape {(batch_size, k, k)}, but got {output.shape}\"\n",
        "\n",
        "    print(\"Tnet test passed successfully!\")\n",
        "\n",
        "    # Optionally, print a sample output matrix\n",
        "    print(\"\\nSample output matrix:\")\n",
        "    print(output[0])  # Print the first matrix in the batch\n",
        "\n",
        "# Run the test\n",
        "if __name__ == \"__main__\":\n",
        "    k = 3  # Dimension of input features\n",
        "    batch_size = 32\n",
        "    num_points = 2500\n",
        "\n",
        "    test_tnet(k, batch_size, num_points)\n",
        "\n",
        "\n",
        "\n",
        "\n"
      ]
    },
    {
      "cell_type": "code",
      "execution_count": null,
      "metadata": {
        "colab": {
          "base_uri": "https://localhost:8080/"
        },
        "id": "tqmtTPoRCoXX",
        "outputId": "ae7d739b-51b4-4a48-f733-cbdd1606e585"
      },
      "outputs": [
        {
          "output_type": "stream",
          "name": "stdout",
          "text": [
            "torch.Size([32, 1088, 2500])\n",
            "torch.Size([32, 1024])\n",
            "torch.Size([32, 3, 3])\n",
            "torch.Size([32, 64, 64])\n"
          ]
        }
      ],
      "source": [
        "class PointNet(nn.Module):\n",
        "    \"\"\"\n",
        "    PointNet class processes 3D point cloud data to extract local and global features.\n",
        "    It uses two Tnet layers for affine transformations and several convolutional layers\n",
        "    to extract features from the input point cloud. Depending on the 'local_ftr' flag,\n",
        "    it can return a combination of local and global features (needed for segmentation) or just the global features(needed for classification).\n",
        "    \"\"\"\n",
        "    def __init__(self, num_points=2500, num_global_ftrs=1024, local_ftr=True):\n",
        "        super(PointNet, self).__init__()\n",
        "        self.num_points = num_points\n",
        "        self.num_global_ftrs = num_global_ftrs\n",
        "        self.local_ftr = local_ftr\n",
        "\n",
        "        # Transformation networks for input and feature space\n",
        "        self.tnet1 = Tnet(k=3, num_points=num_points)\n",
        "        self.tnet2 = Tnet(k=64, num_points=num_points)\n",
        "\n",
        "        # Convolutional layers\n",
        "        self.conv1 = nn.Conv1d(3, 64, kernel_size=1)\n",
        "        self.conv2 = nn.Conv1d(64, 64, kernel_size=1)\n",
        "        self.conv3 = nn.Conv1d(64, 64, kernel_size=1)\n",
        "        self.conv4 = nn.Conv1d(64, 128, kernel_size=1)\n",
        "        self.conv5 = nn.Conv1d(128, num_global_ftrs, kernel_size=1)\n",
        "\n",
        "        # Batch normalization layers\n",
        "        self.bn1 = nn.BatchNorm1d(64)\n",
        "        self.bn2 = nn.BatchNorm1d(64)\n",
        "        self.bn3 = nn.BatchNorm1d(64)\n",
        "        self.bn4 = nn.BatchNorm1d(128)\n",
        "        self.bn5 = nn.BatchNorm1d(num_global_ftrs)\n",
        "\n",
        "        # Max pooling layer\n",
        "        self.max_pool = nn.MaxPool1d(kernel_size=num_points, return_indices=True)\n",
        "\n",
        "    def forward(self, x):\n",
        "        bs = x.shape[0]  # Batch size\n",
        "\n",
        "        # Apply first transformation network\n",
        "        t_matrix1 = self.tnet1(x)\n",
        "        x = torch.bmm(x.transpose(2, 1), t_matrix1).transpose(2, 1)\n",
        "\n",
        "        # First two convolutional layers with ReLU activation and batch normalization\n",
        "        x = F.relu(self.bn1(self.conv1(x)))\n",
        "        x = F.relu(self.bn2(self.conv2(x)))\n",
        "\n",
        "        # Apply second transformation network\n",
        "        t_matrix2 = self.tnet2(x)\n",
        "        x = torch.bmm(x.transpose(2, 1), t_matrix2).transpose(2, 1)\n",
        "\n",
        "        # Clone the local features for later use\n",
        "        local_features = x.clone()\n",
        "\n",
        "        # Further convolutional layers\n",
        "        x = F.relu(self.bn3(self.conv3(x)))\n",
        "        x = F.relu(self.bn4(self.conv4(x)))\n",
        "        x = F.relu(self.bn5(self.conv5(x)))\n",
        "\n",
        "        # Max pooling to obtain global features\n",
        "        global_features, global_indexes = self.max_pool(x)\n",
        "        global_features = global_features.view(bs, -1)\n",
        "        global_indexes = global_indexes.view(bs, -1)\n",
        "\n",
        "        if self.local_ftr:\n",
        "            # Concatenate local and global features if local_ftr is True\n",
        "            features = torch.cat((local_features, global_features.unsqueeze(-1).repeat(1, 1, self.num_points)), dim=1)\n",
        "            return features, global_indexes, t_matrix1, t_matrix2\n",
        "        else:\n",
        "            # Return only global features, global indexes, and second transformation matrix\n",
        "            return global_features, global_indexes, t_matrix1, t_matrix2\n",
        "\n",
        "# Create a dummy input tensor\n",
        "dummy_input = torch.rand(32, 3, 2500)  # Batch size of 32, 3 coordinates, 2500 points\n",
        "\n",
        "# Instantiate the PointNet model\n",
        "model = PointNet()\n",
        "\n",
        "# Perform a forward pass with the dummy input\n",
        "output = model(dummy_input)\n",
        "\n",
        "# Print the output shapes\n",
        "for out in output:\n",
        "    print(out.shape)\n"
      ]
    },
    {
      "cell_type": "code",
      "execution_count": null,
      "metadata": {
        "colab": {
          "base_uri": "https://localhost:8080/"
        },
        "id": "IuSjaMxXCoXY",
        "outputId": "c3a34afd-3cf4-445d-85fc-0100666de7ae"
      },
      "outputs": [
        {
          "output_type": "stream",
          "name": "stdout",
          "text": [
            "Output shape: torch.Size([8, 2])\n",
            "Indices shape: torch.Size([8, 1024])\n",
            "Feature transformation matrix shape: torch.Size([8, 64, 64])\n",
            "Output: tensor([[-0.1707, -0.2439],\n",
            "        [-0.1170,  0.3424],\n",
            "        [-0.5784, -0.1329],\n",
            "        [ 0.4125, -0.1626],\n",
            "        [ 0.2673, -0.5199],\n",
            "        [ 0.2326, -0.9663],\n",
            "        [-0.5366,  0.0456],\n",
            "        [ 0.5780, -0.6498]], grad_fn=<AddmmBackward0>)\n"
          ]
        }
      ],
      "source": [
        "class PointNetClas(nn.Module):\n",
        "    \"\"\"\n",
        "    PointNetClas class is designed for classification tasks using 3D point cloud data.\n",
        "    It extends the PointNet class to include fully connected layers for classification\n",
        "    and uses dropout for regularization.\n",
        "    \"\"\"\n",
        "    def __init__(self, num_points=2500, num_global_ftrs=1024, num_classes=2):\n",
        "        super(PointNetClas, self).__init__()\n",
        "\n",
        "        # Initialize the PointNet network without local features\n",
        "        self.network = PointNet(num_points=num_points, num_global_ftrs=num_global_ftrs, local_ftr=False)\n",
        "\n",
        "        # Fully connected layers for classification\n",
        "        self.linear1 = nn.Linear(num_global_ftrs, 512)\n",
        "        self.linear2 = nn.Linear(512, 256)\n",
        "        self.linear3 = nn.Linear(256, num_classes)  # Change 'k' to 'num_classes'\n",
        "\n",
        "        # Batch normalization layers\n",
        "        self.bn1 = nn.BatchNorm1d(512)\n",
        "        self.bn2 = nn.BatchNorm1d(256)\n",
        "\n",
        "        # Dropout layer for regularization\n",
        "        self.dropout = nn.Dropout(p=0.3)\n",
        "\n",
        "    def forward(self, x):\n",
        "        # Extract features using PointNet\n",
        "        features, idxs, input_transform, feat_transform = self.network(x)\n",
        "\n",
        "        # Apply fully connected layers with ReLU activation and batch normalization\n",
        "        x = F.relu(self.bn1(self.linear1(features)))\n",
        "        x = F.relu(self.bn2(self.linear2(x)))\n",
        "\n",
        "        # Apply dropout for regularization\n",
        "        x = self.dropout(x)\n",
        "\n",
        "        # Output layer\n",
        "        x = self.linear3(x)\n",
        "\n",
        "        # Return features, indices from max pool, and feature transformation matrix\n",
        "        return x, idxs, input_transform, feat_transform\n",
        "\n",
        "\n",
        "\n",
        "# Dummy data\n",
        "batch_size = 8\n",
        "num_points = 2500\n",
        "input_dim = 3\n",
        "num_classes = 2\n",
        "\n",
        "# Generate random input data\n",
        "dummy_input = torch.rand(batch_size, input_dim, num_points)\n",
        "\n",
        "# Instantiate the model\n",
        "model = PointNetClas(num_points=num_points, num_global_ftrs=1024, num_classes=num_classes)\n",
        "\n",
        "# Forward pass with the dummy data\n",
        "output, idxs,input_transform, feat_transform = model(dummy_input)\n",
        "\n",
        "# Print the outputs\n",
        "print(\"Output shape:\", output.shape)  # Expected shape: (batch_size, num_classes)\n",
        "print(\"Indices shape:\", idxs.shape)  # Expected shape: (batch_size, 1)\n",
        "print(\"Feature transformation matrix shape:\", feat_transform.shape)  # Expected shape: (batch_size, 64, 64)\n",
        "\n",
        "# Check the model output\n",
        "print(\"Output:\", output)"
      ]
    },
    {
      "cell_type": "code",
      "execution_count": null,
      "metadata": {
        "id": "R5a9HizGCoXY",
        "colab": {
          "base_uri": "https://localhost:8080/"
        },
        "outputId": "dc53c257-8673-4c29-fec9-c4232d40dab5"
      },
      "outputs": [
        {
          "output_type": "stream",
          "name": "stdout",
          "text": [
            "Output shape: torch.Size([8, 2500, 2])\n",
            "Indices shape: torch.Size([8, 1024])\n",
            "Feature transformation matrix shape: torch.Size([8, 64, 64])\n"
          ]
        }
      ],
      "source": [
        "class PointNetSeg(nn.Module):\n",
        "    \"\"\"\n",
        "    PointNetSeg class is designed for segmentation tasks using 3D point cloud data.\n",
        "    It extends the PointNet class to include shared MLP layers for per-point classification.\n",
        "    \"\"\"\n",
        "    def __init__(self, num_points=2500, num_global_ftrs=1024, num_classes=2):\n",
        "        super(PointNetSeg, self).__init__()\n",
        "\n",
        "        # Initialize the PointNet network with local features\n",
        "        self.network = PointNet(num_points=num_points, num_global_ftrs=num_global_ftrs, local_ftr=True)\n",
        "\n",
        "        # Shared MLP layers for segmentation\n",
        "        num_features = num_global_ftrs + 64  # local and global features\n",
        "        self.conv1 = nn.Conv1d(num_features, 512, kernel_size=1)\n",
        "        self.conv2 = nn.Conv1d(512, 256, kernel_size=1)\n",
        "        self.conv3 = nn.Conv1d(256, 128, kernel_size=1)\n",
        "        self.conv4 = nn.Conv1d(128, num_classes, kernel_size=1)\n",
        "\n",
        "        # Batch normalization layers for shared MLP\n",
        "        self.bn1 = nn.BatchNorm1d(512)\n",
        "        self.bn2 = nn.BatchNorm1d(256)\n",
        "        self.bn3 = nn.BatchNorm1d(128)\n",
        "\n",
        "    def forward(self, x):\n",
        "        # Extract features using PointNet\n",
        "        features, idxs,input_transform, feat_transform = self.network(x)\n",
        "\n",
        "        # Apply shared MLP layers with ReLU activation and batch normalization\n",
        "        x = F.relu(self.bn1(self.conv1(features)))\n",
        "        x = F.relu(self.bn2(self.conv2(x)))\n",
        "        x = F.relu(self.bn3(self.conv3(x)))\n",
        "\n",
        "        # Output layer for per-point classification\n",
        "        x = self.conv4(x)\n",
        "\n",
        "        # Transpose the output to match the expected shape\n",
        "        x = x.transpose(2, 1)\n",
        "\n",
        "        # Return the per-point scores, indices from max pool, and feature transformation matrix\n",
        "        return x, idxs,input_transform, feat_transform\n",
        "\n",
        "# Dummy code to test the PointNetSeg class\n",
        "batch_size = 8\n",
        "num_points = 2500\n",
        "input_dim = 3\n",
        "num_classes = 2\n",
        "\n",
        "# Generate random input data\n",
        "dummy_input = torch.rand(batch_size, input_dim, num_points)\n",
        "\n",
        "# Instantiate the model\n",
        "model = PointNetSeg(num_points=num_points, num_global_ftrs=1024, num_classes=num_classes)\n",
        "\n",
        "# Forward pass with the dummy data\n",
        "output, idxs,input_transform, feat_transform = model(dummy_input)\n",
        "\n",
        "# Print the outputs\n",
        "print(\"Output shape:\", output.shape)  # Expected shape: (batch_size, num_points, num_classes)\n",
        "print(\"Indices shape:\", idxs.shape)  # Expected shape: (batch_size, 1)\n",
        "print(\"Feature transformation matrix shape:\", feat_transform.shape)  # Expected shape: (batch_size, 64, 64)\n",
        "\n",
        "\n",
        "\n",
        "\n",
        "\n"
      ]
    },
    {
      "cell_type": "markdown",
      "source": [
        "# Dataset"
      ],
      "metadata": {
        "id": "IUVLvXrvL7uR"
      }
    },
    {
      "cell_type": "code",
      "execution_count": null,
      "metadata": {
        "id": "we0i-yD6CoXZ",
        "outputId": "b9ae40c2-9c50-4017-c657-949b85c48f2f",
        "colab": {
          "base_uri": "https://localhost:8080/",
          "height": 141
        }
      },
      "outputs": [
        {
          "output_type": "stream",
          "name": "stdout",
          "text": [
            "Number of data points: 12137\n",
            "Classes: {'Airplane': 0, 'Bag': 1, 'Cap': 2, 'Car': 3, 'Chair': 4, 'Earphone': 5, 'Guitar': 6, 'Knife': 7, 'Lamp': 8, 'Laptop': 9, 'Motorbike': 10, 'Mug': 11, 'Pistol': 12, 'Rocket': 13, 'Skateboard': 14, 'Table': 15}\n",
            "Number of segmentation classes: 0\n",
            "First data point: ('Airplane', '/content/shapenetcore_partanno_segmentation_benchmark_v0/02691156/points/ed73e946a138f3cfbc0909d98a1ff2b4.pts', '/content/shapenetcore_partanno_segmentation_benchmark_v0/02691156/points_label/ed73e946a138f3cfbc0909d98a1ff2b4.seg', '/content/shapenetcore_partanno_segmentation_benchmark_v0/02691156/seg_img/ed73e946a138f3cfbc0909d98a1ff2b4.png')\n",
            "Class label: tensor([0])\n",
            "Point cloud shape: torch.Size([2500, 3])\n"
          ]
        }
      ],
      "source": [
        "import os\n",
        "import json\n",
        "import numpy as np\n",
        "import open3d as o3\n",
        "from PIL import Image\n",
        "import torch\n",
        "from torch.utils.data import Dataset\n",
        "from torchvision.transforms import ToTensor\n",
        "\n",
        "class ShapenetDataset(Dataset):\n",
        "\n",
        "    def __init__(self, root, split, npoints=2500, classification=False, class_choice=None,\n",
        "                 image=False, normalize=True):\n",
        "\n",
        "        self.root = root\n",
        "        self.split = split.lower()\n",
        "        self.npoints = npoints\n",
        "        self.catfile = os.path.join(self.root, 'synsetoffset2category.txt')\n",
        "        self.cat = {} # dictionary to map folders to classes\n",
        "        self.classification = classification\n",
        "        self.image = image\n",
        "        self.normalize = normalize\n",
        "\n",
        "        # Open the Category File and Map Folders to Categories\n",
        "        with open(self.catfile, 'r') as f:\n",
        "            for line in f:\n",
        "                ls = line.strip().split()\n",
        "                self.cat[ls[0]] = ls[1]\n",
        "\n",
        "        # select specific categories from the dataset.\n",
        "        # ex: Call in parameters \"class_choice=[\"Airplane\"].\n",
        "        if not class_choice is  None:\n",
        "            self.cat = {k:v for k,v in self.cat.items() if k in class_choice}\n",
        "\n",
        "        # for each category, assign the point, segmentation, and image.\n",
        "        self.meta = {}\n",
        "        for item in self.cat:\n",
        "            self.meta[item] = []\n",
        "            dir_point = os.path.join(self.root, self.cat[item], 'points')\n",
        "            dir_seg = os.path.join(self.root, self.cat[item], 'points_label')\n",
        "            dir_seg_img = os.path.join(self.root, self.cat[item], 'seg_img')\n",
        "\n",
        "            # get train, valid, test splits from json files\n",
        "            if self.split == 'train':\n",
        "                split_file = os.path.join(self.root,\n",
        "                    'train_test_split', 'shuffled_train_file_list.json')\n",
        "            elif self.split == 'test':\n",
        "                split_file = os.path.join(self.root,\n",
        "                    'train_test_split', 'shuffled_test_file_list.json')\n",
        "            elif (self.split == 'valid') or (self.split == 'val'):\n",
        "                split_file = os.path.join(self.root,\n",
        "                    'train_test_split', 'shuffled_val_file_list.json')\n",
        "\n",
        "            with open(split_file, 'r') as f:\n",
        "                split_data = json.load(f)\n",
        "\n",
        "            # print(split_data)\n",
        "\n",
        "            # get point cloud file (.pts) names for current split\n",
        "            pts_names = []\n",
        "            for token in split_data:\n",
        "                # print(token)\n",
        "                if self.cat[item] in token:\n",
        "                    pts_names.append(token.split('/')[-1] + '.pts')\n",
        "\n",
        "\n",
        "            # FOR EVERY POINT CLOUD FILE\n",
        "            for fn in pts_names:\n",
        "                # print(fn)\n",
        "                token = (os.path.splitext(os.path.basename(fn))[0])\n",
        "                # print(token)\n",
        "                # add point cloud, segmentations, and image to class metadata dict\n",
        "                self.meta[item].append((os.path.join(dir_point, token + '.pts'),\n",
        "                                        os.path.join(dir_seg, token + '.seg'),\n",
        "                                        os.path.join(dir_seg_img, token + '.png')))\n",
        "\n",
        "        # create list containing (item, points, segmentation points, segmentation image)\n",
        "        self.datapath = []\n",
        "        for item in self.cat:\n",
        "            for fn in self.meta[item]:\n",
        "                self.datapath.append((item, fn[0], fn[1], fn[2]))\n",
        "        self.classes = dict(zip(sorted(self.cat), range(len(self.cat))))\n",
        "\n",
        "        self.num_seg_classes = 0\n",
        "        if not self.classification: # Take the Segmentation Labels\n",
        "            for i in range(len(self.datapath)//50):\n",
        "                # get number of seg classes in current item\n",
        "                l = len(np.unique(np.loadtxt(self.datapath[i][2]).astype(np.uint8)))\n",
        "                if l > self.num_seg_classes:\n",
        "                    self.num_seg_classes = l\n",
        "\n",
        "    def __getitem__(self, index):\n",
        "            '''\n",
        "            Each element has the format \"class, points, segmentation labels, segmentation image\"\n",
        "            '''\n",
        "            # Get one Element\n",
        "            fn = self.datapath[index]\n",
        "\n",
        "            # get its Class\n",
        "            cls_ = self.classes[fn[0]]\n",
        "\n",
        "            # Read the Point Cloud\n",
        "            point_set = np.asarray(o3.io.read_point_cloud(fn[1], format='xyz').points,dtype=np.float32)\n",
        "\n",
        "            # Read the Segmentation Data\n",
        "            seg = np.loadtxt(fn[2]).astype(np.int64)\n",
        "\n",
        "            # Read the Segmentation Image\n",
        "            image = Image.open(fn[3])\n",
        "\n",
        "            # down sample the pont cloud\n",
        "            if len(seg) > self.npoints:\n",
        "                choice = np.random.choice(len(seg), self.npoints, replace=False)\n",
        "            else:\n",
        "                # case when there are less points than the desired number\n",
        "                choice = np.random.choice(len(seg), self.npoints, replace=True)\n",
        "\n",
        "            point_set = point_set[choice, :]\n",
        "            seg = seg[choice]\n",
        "            point_set = torch.from_numpy(point_set)\n",
        "            seg = torch.from_numpy(seg)\n",
        "            cls_ = torch.from_numpy(np.array([cls_]).astype(np.int64))\n",
        "\n",
        "            # add Gaussian noise to point set if not testing\n",
        "            if self.split != 'test':\n",
        "                # add N(0, 1/100) noise\n",
        "                point_set += torch.randn(point_set.shape)/100\n",
        "\n",
        "                # add random rotation to the point cloud\n",
        "                point_set = self.random_rotate(point_set)\n",
        "\n",
        "            # Normalize Point Cloud to (0, 1)\n",
        "            if self.normalize:\n",
        "                point_set = self.normalize_points(point_set)\n",
        "\n",
        "            if self.classification:\n",
        "                if self.image:\n",
        "                    return point_set, cls_, image\n",
        "                else:\n",
        "                    return point_set, cls_\n",
        "\n",
        "            else:\n",
        "                if self.image:\n",
        "                    return point_set, seg, image\n",
        "                else:\n",
        "                    return point_set, seg\n",
        "\n",
        "\n",
        "    @staticmethod\n",
        "    def random_rotate(points):\n",
        "        ''' randomly rotates point cloud about vertical axis.\n",
        "            Code is commented out to rotate about all axes\n",
        "            '''\n",
        "        # construct a randomly parameterized 3x3 rotation matrix\n",
        "        theta = torch.FloatTensor(1).uniform_(-torch.pi, torch.pi)\n",
        "\n",
        "        rot_y = torch.Tensor([\n",
        "            [torch.cos(theta),  0, torch.sin(theta)],\n",
        "            [0,                 1,                0],\n",
        "            [-torch.sin(theta), 0, torch.cos(theta)]])\n",
        "\n",
        "        return torch.matmul(points, rot_y)\n",
        "\n",
        "    @staticmethod\n",
        "    def normalize_points(points):\n",
        "        ''' Perform min/max normalization on points\n",
        "            Same as:\n",
        "            (x - min(x))/(max(x) - min(x))\n",
        "            '''\n",
        "        points = points - points.min(axis=0)[0]\n",
        "        points /= points.max(axis=0)[0]\n",
        "\n",
        "        return points\n",
        "\n",
        "\n",
        "    def __len__(self):\n",
        "        return len(self.datapath)\n",
        "\n",
        "\n",
        "\n",
        "\n",
        "# Initialize the ShapenetDataset class\n",
        "dataset = ShapenetDataset(root='/content/shapenetcore_partanno_segmentation_benchmark_v0', split='train',classification=True)\n",
        "\n",
        "# Print some information to understand the data structure\n",
        "print(f\"Number of data points: {len(dataset.datapath)}\")\n",
        "print(f\"Classes: {dataset.classes}\")\n",
        "print(f\"Number of segmentation classes: {dataset.num_seg_classes}\")\n",
        "print(f\"First data point: {dataset.datapath[0]}\")\n",
        "\n",
        "# Get a sample from the dataset\n",
        "index = 0  # Example index\n",
        "sample = dataset[index]\n",
        "\n",
        "# print(sample[0].shape)\n",
        "\n",
        "# # Print some information\n",
        "print(f\"Class label: {sample[1]}\")  # Class label\n",
        "print(f\"Point cloud shape: {sample[0].shape}\")  # Point cloud shape\n",
        "\n",
        "# If images are included in the dataset\n",
        "if dataset.image:\n",
        "    image_tensor = ToTensor()(sample[3])  # Convert image to tensor\n",
        "    print(f\"Segmentation image shape: {image_tensor.shape}\")  # Segmentation image shape"
      ]
    },
    {
      "cell_type": "code",
      "execution_count": null,
      "metadata": {
        "id": "MGLOfy2PCoXb"
      },
      "outputs": [],
      "source": [
        "from torch.utils.data import DataLoader\n",
        "\n",
        "root = '/content/shapenetcore_partanno_segmentation_benchmark_v0'\n",
        "train_dataset = ShapenetDataset(root, split = 'train', npoints = 2500, classification= True)\n",
        "train_dataloader = DataLoader(train_dataset,batch_size=32,shuffle=True)\n",
        "\n",
        "test_dataset = ShapenetDataset(root,split = 'test', npoints=10000, classification= True)\n",
        "test_dataloader = DataLoader(test_dataset,batch_size=32)\n",
        "\n",
        "valid_dataset = ShapenetDataset(root,split='valid',npoints=2500,classification=True)\n",
        "valid_dataloader = DataLoader(valid_dataset,batch_size=32)"
      ]
    },
    {
      "cell_type": "code",
      "execution_count": null,
      "metadata": {
        "id": "eAChf6HGCoXb",
        "outputId": "b9596b6c-31b7-42d5-8b8a-3c46febafe2a",
        "colab": {
          "base_uri": "https://localhost:8080/"
        }
      },
      "outputs": [
        {
          "output_type": "stream",
          "name": "stdout",
          "text": [
            "length of train_dataset:  12137\n",
            "length of test_dataset:  2874\n",
            "length of valid_dataset:  1870\n"
          ]
        }
      ],
      "source": [
        "print(\"length of train_dataset: \", len(train_dataset))\n",
        "print(\"length of test_dataset: \",  len(test_dataset))\n",
        "print(\"length of valid_dataset: \", len(valid_dataset))"
      ]
    },
    {
      "cell_type": "markdown",
      "source": [
        "# Loss"
      ],
      "metadata": {
        "id": "lfjQEP_gMEOF"
      }
    },
    {
      "cell_type": "code",
      "execution_count": null,
      "metadata": {
        "id": "Hd5JZQdbCoXa"
      },
      "outputs": [],
      "source": [
        "import torch\n",
        "\n",
        "def pointnetloss(outputs, labels, m3x3, m64x64, alpha=0.0001):\n",
        "    \"\"\"\n",
        "    Compute the loss for PointNet.\n",
        "\n",
        "    Parameters:\n",
        "    - criterion: The loss function (e.g., CrossEntropyLoss for classification).\n",
        "    - outputs: The model predictions.\n",
        "    - labels: The ground truth labels.\n",
        "    - m3x3: The 3x3 transformation matrix predicted by T-Net.\n",
        "    - m64x64: The 64x64 transformation matrix predicted by T-Net.\n",
        "    - alpha: The weight for the regularization term.\n",
        "\n",
        "    Returns:\n",
        "    - The total loss combining the criterion loss and the regularization loss.\n",
        "    \"\"\"\n",
        "    bs = outputs.size(0)  # Batch size\n",
        "    criterion = nn.CrossEntropyLoss()\n",
        "\n",
        "    # Create identity matrices for regularization\n",
        "    id3x3 = torch.eye(3).repeat(bs, 1, 1)\n",
        "    id64x64 = torch.eye(64).repeat(bs, 1, 1)\n",
        "\n",
        "    # Move identity matrices to the same device as outputs\n",
        "    if outputs.is_cuda:\n",
        "        id3x3 = id3x3.cuda()\n",
        "        id64x64 = id64x64.cuda()\n",
        "\n",
        "    # Compute the difference between the identity matrix and the product of the transformation matrix with its transpose\n",
        "    diff3x3 = id3x3 - torch.bmm(m3x3, m3x3.transpose(1, 2))\n",
        "    diff64x64 = id64x64 - torch.bmm(m64x64, m64x64.transpose(1, 2))\n",
        "\n",
        "    # Calculate the regularization loss\n",
        "    reg_loss = (torch.norm(diff3x3) + torch.norm(diff64x64)) / float(bs)\n",
        "\n",
        "    # Calculate the total loss\n",
        "    total_loss = criterion(outputs, labels) + alpha * reg_loss\n",
        "\n",
        "    return total_loss\n"
      ]
    },
    {
      "cell_type": "markdown",
      "source": [
        "# Training"
      ],
      "metadata": {
        "id": "48hK6qnLMM_l"
      }
    },
    {
      "cell_type": "code",
      "execution_count": null,
      "metadata": {
        "id": "kUv3Y5_TCoXb",
        "outputId": "96221333-a03b-47df-e118-5abf2fb657c6",
        "colab": {
          "base_uri": "https://localhost:8080/",
          "height": 55
        }
      },
      "outputs": [
        {
          "output_type": "execute_result",
          "data": {
            "text/plain": [
              "'cuda'"
            ],
            "application/vnd.google.colaboratory.intrinsic+json": {
              "type": "string"
            }
          },
          "metadata": {},
          "execution_count": 11
        }
      ],
      "source": [
        "DEVICE = 'cuda' if torch.cuda.is_available() else 'cpu'\n",
        "DEVICE"
      ]
    },
    {
      "cell_type": "code",
      "execution_count": null,
      "metadata": {
        "id": "SDB7SEg7CoXb"
      },
      "outputs": [],
      "source": [
        "import torch.optim as optim\n",
        "\n",
        "classifier = PointNetClas(num_global_ftrs=1024, num_classes=16).to(DEVICE)\n",
        "optimizer = optim.Adam(classifier.parameters(), lr=0.0001)\n",
        "\n"
      ]
    },
    {
      "cell_type": "code",
      "execution_count": null,
      "metadata": {
        "id": "UfgnbO_lCoXb"
      },
      "outputs": [],
      "source": [
        "def train(classifier,dataloader,epoch):\n",
        "    loss_vals = []\n",
        "    accuracy = []\n",
        "\n",
        "    for i,(points,targets) in enumerate(dataloader,0):\n",
        "        points = points.transpose(2,1).to(DEVICE)\n",
        "        targets = targets.squeeze().to(DEVICE)\n",
        "\n",
        "        # print(points.shape)\n",
        "        # zero gradients\n",
        "        optimizer.zero_grad()\n",
        "\n",
        "        preds,_, input_transform, feat_transform = classifier(points)\n",
        "\n",
        "        loss = pointnetloss(preds,targets,input_transform,feat_transform)\n",
        "\n",
        "        loss.backward()\n",
        "\n",
        "        optimizer.step()\n",
        "\n",
        "        predicted_class = torch.softmax(preds,dim=1).argmax(dim=1)\n",
        "\n",
        "        correct = (predicted_class == targets).float().sum()\n",
        "\n",
        "        accuracy.append(correct/len(targets))\n",
        "\n",
        "        loss_vals.append(loss.item())\n",
        "\n",
        "        if i % 50 == 0:\n",
        "            print(f\"Epoch {epoch}, Batch {i}, Loss: {loss.item()}, Accuracy: {correct/len(targets)}\")\n",
        "\n",
        "\n",
        "    # Calculate mean loss and accuracy\n",
        "    mean_loss = torch.tensor(loss_vals).mean().item()\n",
        "    mean_accuracy = torch.tensor(accuracy).mean().item()\n",
        "\n",
        "    return mean_loss, mean_accuracy\n",
        "\n",
        "\n",
        "\n"
      ]
    },
    {
      "cell_type": "code",
      "execution_count": null,
      "metadata": {
        "id": "d8Ko176JCoXb"
      },
      "outputs": [],
      "source": [
        "def validate(classifier,dataloader,epoch):\n",
        "    loss_vals = []\n",
        "    accuracy = []\n",
        "\n",
        "    for i,(points,targets) in enumerate(dataloader,0):\n",
        "        points = points.transpose(2,1).to(DEVICE)\n",
        "        targets = targets.squeeze().to(DEVICE)\n",
        "\n",
        "        classifier.eval()\n",
        "        with torch.no_grad():\n",
        "            preds,_, input_transform, feat_transform = classifier(points)\n",
        "\n",
        "        loss = pointnetloss(preds,targets,input_transform,feat_transform)\n",
        "\n",
        "        predicted_class = torch.softmax(preds,dim=1).argmax(dim=1)\n",
        "\n",
        "        correct = (predicted_class == targets).float().sum()\n",
        "\n",
        "        accuracy.append(correct/len(targets))\n",
        "\n",
        "        loss_vals.append(loss.item())\n",
        "\n",
        "        if i % 50 == 0:\n",
        "            print(f\"Epoch {epoch}, Batch {i}, Loss: {loss.item()}, Accuracy: {correct/len(targets)}\")\n",
        "\n",
        "\n",
        "    # Calculate mean loss and accuracy\n",
        "    mean_loss = torch.tensor(loss_vals).mean().item()\n",
        "    mean_accuracy = torch.tensor(accuracy).mean().item()\n",
        "\n",
        "    return mean_loss, mean_accuracy\n"
      ]
    },
    {
      "cell_type": "code",
      "execution_count": null,
      "metadata": {
        "id": "y4X4hKfICoXb",
        "colab": {
          "base_uri": "https://localhost:8080/"
        },
        "outputId": "ddaedc04-ec66-4be7-de51-7fd703361edd"
      },
      "outputs": [
        {
          "output_type": "stream",
          "name": "stdout",
          "text": [
            "Epoch 0, Batch 0, Loss: 2.8089489936828613, Accuracy: 0.125\n",
            "Epoch 0, Batch 50, Loss: 1.6636593341827393, Accuracy: 0.625\n",
            "Epoch 0, Batch 100, Loss: 1.0592546463012695, Accuracy: 0.75\n",
            "Epoch 0, Batch 150, Loss: 0.8188287615776062, Accuracy: 0.8125\n",
            "Epoch 0, Batch 200, Loss: 0.9207615852355957, Accuracy: 0.78125\n",
            "Epoch 0, Batch 250, Loss: 0.663572371006012, Accuracy: 0.8125\n",
            "Epoch 0, Batch 300, Loss: 0.6264581680297852, Accuracy: 0.84375\n",
            "Epoch 0, Batch 350, Loss: 0.27432781457901, Accuracy: 0.9375\n",
            "Epoch 0, Batch 0, Loss: 0.039740391075611115, Accuracy: 1.0\n",
            "Epoch 0, Batch 50, Loss: 0.765778124332428, Accuracy: 0.78125\n",
            "Epoch 1, Train Loss: 0.9683544635772705, Train Accuracy: 0.7476516962051392, Valid Loss: 0.554588794708252, Valid Accuracy: 0.8311894536018372\n",
            "Epoch 1, Batch 0, Loss: 0.49604228138923645, Accuracy: 0.875\n",
            "Epoch 1, Batch 50, Loss: 1.5366368293762207, Accuracy: 0.59375\n",
            "Epoch 1, Batch 100, Loss: 0.8152311444282532, Accuracy: 0.71875\n",
            "Epoch 1, Batch 150, Loss: 1.2836681604385376, Accuracy: 0.65625\n",
            "Epoch 1, Batch 200, Loss: 1.1512616872787476, Accuracy: 0.59375\n",
            "Epoch 1, Batch 250, Loss: 0.6276609897613525, Accuracy: 0.78125\n",
            "Epoch 1, Batch 300, Loss: 0.4045780599117279, Accuracy: 0.90625\n",
            "Epoch 1, Batch 350, Loss: 0.6242110729217529, Accuracy: 0.75\n",
            "Epoch 1, Batch 0, Loss: 0.011435889638960361, Accuracy: 1.0\n",
            "Epoch 1, Batch 50, Loss: 0.12126782536506653, Accuracy: 1.0\n",
            "Epoch 2, Train Loss: 0.8580201268196106, Train Accuracy: 0.7517544627189636, Valid Loss: 0.5032072067260742, Valid Accuracy: 0.8488953113555908\n",
            "Epoch 2, Batch 0, Loss: 0.6930756568908691, Accuracy: 0.8125\n",
            "Epoch 2, Batch 50, Loss: 1.1173783540725708, Accuracy: 0.625\n",
            "Epoch 2, Batch 100, Loss: 0.41389960050582886, Accuracy: 0.90625\n",
            "Epoch 2, Batch 150, Loss: 0.16118352115154266, Accuracy: 0.9375\n",
            "Epoch 2, Batch 200, Loss: 0.4632033109664917, Accuracy: 0.84375\n",
            "Epoch 2, Batch 250, Loss: 0.4116087555885315, Accuracy: 0.84375\n",
            "Epoch 2, Batch 300, Loss: 0.06381456553936005, Accuracy: 1.0\n",
            "Epoch 2, Batch 350, Loss: 0.4524403512477875, Accuracy: 0.875\n",
            "Epoch 2, Batch 0, Loss: 0.007709107827395201, Accuracy: 1.0\n",
            "Epoch 2, Batch 50, Loss: 0.020066922530531883, Accuracy: 1.0\n",
            "Epoch 3, Train Loss: 0.491443395614624, Train Accuracy: 0.8533625602722168, Valid Loss: 0.3691372573375702, Valid Accuracy: 0.8838529586791992\n",
            "Epoch 3, Batch 0, Loss: 0.78658527135849, Accuracy: 0.78125\n",
            "Epoch 3, Batch 50, Loss: 0.3908175826072693, Accuracy: 0.90625\n",
            "Epoch 3, Batch 100, Loss: 0.49173375964164734, Accuracy: 0.875\n",
            "Epoch 3, Batch 150, Loss: 0.3318931758403778, Accuracy: 0.875\n",
            "Epoch 3, Batch 200, Loss: 0.46391457319259644, Accuracy: 0.875\n",
            "Epoch 3, Batch 250, Loss: 0.32935813069343567, Accuracy: 0.9375\n",
            "Epoch 3, Batch 300, Loss: 0.535108745098114, Accuracy: 0.90625\n",
            "Epoch 3, Batch 350, Loss: 0.4223417341709137, Accuracy: 0.84375\n",
            "Epoch 3, Batch 0, Loss: 0.01519835740327835, Accuracy: 1.0\n",
            "Epoch 3, Batch 50, Loss: 0.12905682623386383, Accuracy: 0.96875\n",
            "Epoch 4, Train Loss: 0.40487730503082275, Train Accuracy: 0.8778691291809082, Valid Loss: 0.361706405878067, Valid Accuracy: 0.8928571939468384\n",
            "Epoch 4, Batch 0, Loss: 0.6432424187660217, Accuracy: 0.875\n",
            "Epoch 4, Batch 50, Loss: 0.4243147671222687, Accuracy: 0.875\n",
            "Epoch 4, Batch 100, Loss: 0.31824538111686707, Accuracy: 0.90625\n",
            "Epoch 4, Batch 150, Loss: 0.5087552070617676, Accuracy: 0.84375\n",
            "Epoch 4, Batch 200, Loss: 0.19347085058689117, Accuracy: 0.96875\n",
            "Epoch 4, Batch 250, Loss: 0.38800129294395447, Accuracy: 0.875\n",
            "Epoch 4, Batch 300, Loss: 0.23891447484493256, Accuracy: 0.875\n",
            "Epoch 4, Batch 350, Loss: 0.26795461773872375, Accuracy: 0.9375\n",
            "Epoch 4, Batch 0, Loss: 0.035255298018455505, Accuracy: 1.0\n",
            "Epoch 4, Batch 50, Loss: 0.010189265012741089, Accuracy: 1.0\n",
            "Epoch 5, Train Loss: 0.3570348620414734, Train Accuracy: 0.8897112607955933, Valid Loss: 0.26430097222328186, Valid Accuracy: 0.9188105463981628\n",
            "Epoch 5, Batch 0, Loss: 0.15670037269592285, Accuracy: 0.96875\n",
            "Epoch 5, Batch 50, Loss: 0.11257404834032059, Accuracy: 0.9375\n",
            "Epoch 5, Batch 100, Loss: 0.5603501200675964, Accuracy: 0.8125\n",
            "Epoch 5, Batch 150, Loss: 0.4008792042732239, Accuracy: 0.84375\n",
            "Epoch 5, Batch 200, Loss: 0.289252370595932, Accuracy: 0.875\n",
            "Epoch 5, Batch 250, Loss: 0.5566724538803101, Accuracy: 0.90625\n",
            "Epoch 5, Batch 300, Loss: 0.31096869707107544, Accuracy: 0.9375\n",
            "Epoch 5, Batch 350, Loss: 0.23665381968021393, Accuracy: 0.96875\n",
            "Epoch 5, Batch 0, Loss: 0.003767310408875346, Accuracy: 1.0\n",
            "Epoch 5, Batch 50, Loss: 0.2958919107913971, Accuracy: 0.84375\n",
            "Epoch 6, Train Loss: 0.32649266719818115, Train Accuracy: 0.9012700915336609, Valid Loss: 0.36290985345840454, Valid Accuracy: 0.8860472440719604\n",
            "Epoch 6, Batch 0, Loss: 0.3899596333503723, Accuracy: 0.8125\n",
            "Epoch 6, Batch 50, Loss: 0.27305445075035095, Accuracy: 0.9375\n",
            "Epoch 6, Batch 100, Loss: 0.1817198544740677, Accuracy: 0.9375\n",
            "Epoch 6, Batch 150, Loss: 0.17837220430374146, Accuracy: 0.9375\n",
            "Epoch 6, Batch 200, Loss: 0.30529290437698364, Accuracy: 0.9375\n",
            "Epoch 6, Batch 250, Loss: 0.4647946059703827, Accuracy: 0.8125\n",
            "Epoch 6, Batch 300, Loss: 0.25718197226524353, Accuracy: 0.90625\n",
            "Epoch 6, Batch 350, Loss: 0.45785120129585266, Accuracy: 0.90625\n",
            "Epoch 6, Batch 0, Loss: 0.0044971490278840065, Accuracy: 1.0\n",
            "Epoch 6, Batch 50, Loss: 0.1346183866262436, Accuracy: 0.96875\n",
            "Epoch 7, Train Loss: 0.2794674336910248, Train Accuracy: 0.9134868383407593, Valid Loss: 0.22144757211208344, Valid Accuracy: 0.9348517060279846\n",
            "Epoch 7, Batch 0, Loss: 0.09185835719108582, Accuracy: 0.96875\n",
            "Epoch 7, Batch 50, Loss: 0.4192066192626953, Accuracy: 0.90625\n",
            "Epoch 7, Batch 100, Loss: 0.48986098170280457, Accuracy: 0.8125\n",
            "Epoch 7, Batch 150, Loss: 0.11033567041158676, Accuracy: 0.96875\n",
            "Epoch 7, Batch 200, Loss: 0.4685884714126587, Accuracy: 0.84375\n",
            "Epoch 7, Batch 250, Loss: 0.4150223433971405, Accuracy: 0.875\n",
            "Epoch 7, Batch 300, Loss: 0.15391412377357483, Accuracy: 0.90625\n",
            "Epoch 7, Batch 350, Loss: 0.47419148683547974, Accuracy: 0.875\n",
            "Epoch 7, Batch 0, Loss: 0.00476179551333189, Accuracy: 1.0\n",
            "Epoch 7, Batch 50, Loss: 0.0861724242568016, Accuracy: 0.96875\n",
            "Epoch 8, Train Loss: 0.27160370349884033, Train Accuracy: 0.9176809191703796, Valid Loss: 0.26150941848754883, Valid Accuracy: 0.9221398234367371\n",
            "Epoch 8, Batch 0, Loss: 0.36377888917922974, Accuracy: 0.875\n",
            "Epoch 8, Batch 50, Loss: 0.39191970229148865, Accuracy: 0.84375\n",
            "Epoch 8, Batch 100, Loss: 0.10749322175979614, Accuracy: 0.9375\n",
            "Epoch 8, Batch 150, Loss: 0.1772911548614502, Accuracy: 0.96875\n",
            "Epoch 8, Batch 200, Loss: 0.19573771953582764, Accuracy: 0.96875\n",
            "Epoch 8, Batch 250, Loss: 0.13737960159778595, Accuracy: 0.9375\n",
            "Epoch 8, Batch 300, Loss: 0.23412366211414337, Accuracy: 0.90625\n",
            "Epoch 8, Batch 350, Loss: 0.252177357673645, Accuracy: 0.84375\n",
            "Epoch 8, Batch 0, Loss: 0.003974584396928549, Accuracy: 1.0\n",
            "Epoch 8, Batch 50, Loss: 0.18464821577072144, Accuracy: 0.96875\n",
            "Epoch 9, Train Loss: 0.2525526285171509, Train Accuracy: 0.92195725440979, Valid Loss: 0.30440863966941833, Valid Accuracy: 0.9080659747123718\n",
            "Epoch 9, Batch 0, Loss: 0.08846639841794968, Accuracy: 0.96875\n",
            "Epoch 9, Batch 50, Loss: 0.01304561085999012, Accuracy: 1.0\n",
            "Epoch 9, Batch 100, Loss: 0.3557225465774536, Accuracy: 0.875\n",
            "Epoch 9, Batch 150, Loss: 0.10581253468990326, Accuracy: 0.96875\n",
            "Epoch 9, Batch 200, Loss: 0.2682968080043793, Accuracy: 0.875\n",
            "Epoch 9, Batch 250, Loss: 0.22754842042922974, Accuracy: 0.9375\n",
            "Epoch 9, Batch 300, Loss: 0.14662739634513855, Accuracy: 0.9375\n",
            "Epoch 9, Batch 350, Loss: 0.17775951325893402, Accuracy: 0.96875\n",
            "Epoch 9, Batch 0, Loss: 0.003911017440259457, Accuracy: 1.0\n",
            "Epoch 9, Batch 50, Loss: 0.11636511981487274, Accuracy: 0.96875\n",
            "Epoch 10, Train Loss: 0.23873917758464813, Train Accuracy: 0.9275036454200745, Valid Loss: 0.23299382627010345, Valid Accuracy: 0.9315224289894104\n",
            "Epoch 10, Batch 0, Loss: 0.22531573474407196, Accuracy: 0.9375\n",
            "Epoch 10, Batch 50, Loss: 0.24515269696712494, Accuracy: 0.875\n",
            "Epoch 10, Batch 100, Loss: 0.3335837423801422, Accuracy: 0.90625\n",
            "Epoch 10, Batch 150, Loss: 0.21201461553573608, Accuracy: 0.9375\n",
            "Epoch 10, Batch 200, Loss: 0.20132800936698914, Accuracy: 0.9375\n",
            "Epoch 10, Batch 250, Loss: 0.5349322557449341, Accuracy: 0.8125\n",
            "Epoch 10, Batch 300, Loss: 0.10089045763015747, Accuracy: 0.96875\n",
            "Epoch 10, Batch 350, Loss: 0.07040169835090637, Accuracy: 1.0\n",
            "Epoch 10, Batch 0, Loss: 0.00631955498829484, Accuracy: 1.0\n",
            "Epoch 10, Batch 50, Loss: 0.020592276006937027, Accuracy: 1.0\n",
            "Epoch 11, Train Loss: 0.23164904117584229, Train Accuracy: 0.9290661215782166, Valid Loss: 0.20489870011806488, Valid Accuracy: 0.9427965879440308\n",
            "Epoch 11, Batch 0, Loss: 0.41678497195243835, Accuracy: 0.875\n",
            "Epoch 11, Batch 50, Loss: 0.703984260559082, Accuracy: 0.84375\n",
            "Epoch 11, Batch 100, Loss: 0.1934509128332138, Accuracy: 0.90625\n",
            "Epoch 11, Batch 150, Loss: 0.024737687781453133, Accuracy: 1.0\n",
            "Epoch 11, Batch 200, Loss: 0.07526272535324097, Accuracy: 1.0\n",
            "Epoch 11, Batch 250, Loss: 0.1822822540998459, Accuracy: 0.96875\n",
            "Epoch 11, Batch 300, Loss: 0.15073925256729126, Accuracy: 0.96875\n",
            "Epoch 11, Batch 350, Loss: 0.04131607338786125, Accuracy: 1.0\n",
            "Epoch 11, Batch 0, Loss: 0.011838465929031372, Accuracy: 1.0\n",
            "Epoch 11, Batch 50, Loss: 0.0637437179684639, Accuracy: 0.96875\n",
            "Epoch 12, Train Loss: 0.22531166672706604, Train Accuracy: 0.9330592155456543, Valid Loss: 0.2083049863576889, Valid Accuracy: 0.9352300763130188\n",
            "Epoch 12, Batch 0, Loss: 0.15259812772274017, Accuracy: 0.90625\n",
            "Epoch 12, Batch 50, Loss: 0.10797876864671707, Accuracy: 0.96875\n",
            "Epoch 12, Batch 100, Loss: 0.29055410623550415, Accuracy: 0.9375\n",
            "Epoch 12, Batch 150, Loss: 0.2524462640285492, Accuracy: 0.90625\n",
            "Epoch 12, Batch 200, Loss: 0.07720646262168884, Accuracy: 0.96875\n",
            "Epoch 12, Batch 250, Loss: 0.31047961115837097, Accuracy: 0.90625\n",
            "Epoch 12, Batch 300, Loss: 0.19421795010566711, Accuracy: 0.875\n",
            "Epoch 12, Batch 350, Loss: 0.04126480966806412, Accuracy: 1.0\n",
            "Epoch 12, Batch 0, Loss: 0.0023915404453873634, Accuracy: 1.0\n",
            "Epoch 12, Batch 50, Loss: 0.1034085676074028, Accuracy: 0.96875\n",
            "Epoch 13, Train Loss: 0.22270578145980835, Train Accuracy: 0.9330134987831116, Valid Loss: 0.273284912109375, Valid Accuracy: 0.9210805296897888\n",
            "Epoch 13, Batch 0, Loss: 0.2614947259426117, Accuracy: 0.96875\n",
            "Epoch 13, Batch 50, Loss: 0.34538012742996216, Accuracy: 0.875\n",
            "Epoch 13, Batch 100, Loss: 0.26365384459495544, Accuracy: 0.875\n",
            "Epoch 13, Batch 150, Loss: 0.12583477795124054, Accuracy: 0.96875\n",
            "Epoch 13, Batch 200, Loss: 0.0889027938246727, Accuracy: 0.96875\n",
            "Epoch 13, Batch 250, Loss: 0.3693050742149353, Accuracy: 0.90625\n",
            "Epoch 13, Batch 300, Loss: 0.16695210337638855, Accuracy: 0.9375\n",
            "Epoch 13, Batch 350, Loss: 0.31570324301719666, Accuracy: 0.875\n",
            "Epoch 13, Batch 0, Loss: 0.01368714589625597, Accuracy: 1.0\n",
            "Epoch 13, Batch 50, Loss: 0.012657688930630684, Accuracy: 1.0\n",
            "Epoch 14, Train Loss: 0.20958277583122253, Train Accuracy: 0.938240110874176, Valid Loss: 0.30855804681777954, Valid Accuracy: 0.9135139584541321\n",
            "Epoch 14, Batch 0, Loss: 0.23832504451274872, Accuracy: 0.9375\n",
            "Epoch 14, Batch 50, Loss: 0.0738004595041275, Accuracy: 1.0\n",
            "Epoch 14, Batch 100, Loss: 0.22222238779067993, Accuracy: 0.9375\n",
            "Epoch 14, Batch 150, Loss: 0.3444839119911194, Accuracy: 0.90625\n",
            "Epoch 14, Batch 200, Loss: 0.10036750137805939, Accuracy: 0.96875\n",
            "Epoch 14, Batch 250, Loss: 0.08988162875175476, Accuracy: 0.96875\n",
            "Epoch 14, Batch 300, Loss: 0.1271456778049469, Accuracy: 0.9375\n",
            "Epoch 14, Batch 350, Loss: 0.24686948955059052, Accuracy: 0.90625\n",
            "Epoch 14, Batch 0, Loss: 0.003425510600209236, Accuracy: 1.0\n",
            "Epoch 14, Batch 50, Loss: 0.08922961354255676, Accuracy: 0.96875\n",
            "Epoch 15, Train Loss: 0.20069049298763275, Train Accuracy: 0.9417306184768677, Valid Loss: 0.17470015585422516, Valid Accuracy: 0.9495308995246887\n",
            "Epoch 15, Batch 0, Loss: 0.12700150907039642, Accuracy: 0.9375\n",
            "Epoch 15, Batch 50, Loss: 0.21361291408538818, Accuracy: 0.96875\n",
            "Epoch 15, Batch 100, Loss: 0.477914959192276, Accuracy: 0.875\n",
            "Epoch 15, Batch 150, Loss: 0.14406117796897888, Accuracy: 1.0\n",
            "Epoch 15, Batch 200, Loss: 0.3132907748222351, Accuracy: 0.90625\n",
            "Epoch 15, Batch 250, Loss: 0.29844120144844055, Accuracy: 0.9375\n",
            "Epoch 15, Batch 300, Loss: 0.09014654159545898, Accuracy: 1.0\n",
            "Epoch 15, Batch 350, Loss: 0.27836883068084717, Accuracy: 0.9375\n",
            "Epoch 15, Batch 0, Loss: 0.0022114841267466545, Accuracy: 1.0\n",
            "Epoch 15, Batch 50, Loss: 0.07817685604095459, Accuracy: 0.96875\n",
            "Epoch 16, Train Loss: 0.19721968472003937, Train Accuracy: 0.9427996873855591, Valid Loss: 0.15921010076999664, Valid Accuracy: 0.9549788236618042\n",
            "Epoch 16, Batch 0, Loss: 0.10408307611942291, Accuracy: 0.96875\n",
            "Epoch 16, Batch 50, Loss: 0.14096474647521973, Accuracy: 0.9375\n",
            "Epoch 16, Batch 100, Loss: 0.06934083998203278, Accuracy: 0.96875\n",
            "Epoch 16, Batch 150, Loss: 0.21331605315208435, Accuracy: 0.90625\n",
            "Epoch 16, Batch 200, Loss: 0.18644222617149353, Accuracy: 0.96875\n",
            "Epoch 16, Batch 250, Loss: 0.3516694903373718, Accuracy: 0.9375\n",
            "Epoch 16, Batch 300, Loss: 0.05049126222729683, Accuracy: 1.0\n",
            "Epoch 16, Batch 350, Loss: 0.24512407183647156, Accuracy: 0.9375\n",
            "Epoch 16, Batch 0, Loss: 0.002093043178319931, Accuracy: 1.0\n",
            "Epoch 16, Batch 50, Loss: 0.04609347879886627, Accuracy: 0.96875\n",
            "Epoch 17, Train Loss: 0.18634237349033356, Train Accuracy: 0.9446545839309692, Valid Loss: 0.18739506602287292, Valid Accuracy: 0.9447639584541321\n",
            "Epoch 17, Batch 0, Loss: 0.1280178725719452, Accuracy: 0.96875\n",
            "Epoch 17, Batch 50, Loss: 0.08098800480365753, Accuracy: 0.96875\n",
            "Epoch 17, Batch 100, Loss: 0.1861589103937149, Accuracy: 0.9375\n",
            "Epoch 17, Batch 150, Loss: 0.24557363986968994, Accuracy: 0.9375\n",
            "Epoch 17, Batch 200, Loss: 0.1100626066327095, Accuracy: 0.96875\n",
            "Epoch 17, Batch 250, Loss: 0.23235277831554413, Accuracy: 0.875\n",
            "Epoch 17, Batch 300, Loss: 0.35572293400764465, Accuracy: 0.875\n",
            "Epoch 17, Batch 350, Loss: 0.06221473589539528, Accuracy: 1.0\n",
            "Epoch 17, Batch 0, Loss: 0.002684650244191289, Accuracy: 1.0\n",
            "Epoch 17, Batch 50, Loss: 0.08760669082403183, Accuracy: 0.96875\n",
            "Epoch 18, Train Loss: 0.18301193416118622, Train Accuracy: 0.9441154599189758, Valid Loss: 0.18537722527980804, Valid Accuracy: 0.945974588394165\n",
            "Epoch 18, Batch 0, Loss: 0.29182955622673035, Accuracy: 0.90625\n",
            "Epoch 18, Batch 50, Loss: 0.13279511034488678, Accuracy: 0.90625\n",
            "Epoch 18, Batch 100, Loss: 0.10254402458667755, Accuracy: 0.96875\n",
            "Epoch 18, Batch 150, Loss: 0.13526636362075806, Accuracy: 0.9375\n",
            "Epoch 18, Batch 200, Loss: 0.05365224927663803, Accuracy: 0.96875\n",
            "Epoch 18, Batch 250, Loss: 0.362504780292511, Accuracy: 0.90625\n",
            "Epoch 18, Batch 300, Loss: 0.02526472508907318, Accuracy: 1.0\n",
            "Epoch 18, Batch 350, Loss: 0.04760981351137161, Accuracy: 0.96875\n",
            "Epoch 18, Batch 0, Loss: 0.0029278253205120564, Accuracy: 1.0\n",
            "Epoch 18, Batch 50, Loss: 0.14732852578163147, Accuracy: 0.96875\n",
            "Epoch 19, Train Loss: 0.17675118148326874, Train Accuracy: 0.9455957412719727, Valid Loss: 0.15583305060863495, Valid Accuracy: 0.952708899974823\n",
            "Epoch 19, Batch 0, Loss: 0.07471432536840439, Accuracy: 0.96875\n",
            "Epoch 19, Batch 50, Loss: 0.032379262149333954, Accuracy: 1.0\n",
            "Epoch 19, Batch 100, Loss: 0.21480725705623627, Accuracy: 0.9375\n",
            "Epoch 19, Batch 150, Loss: 0.02085701934993267, Accuracy: 1.0\n",
            "Epoch 19, Batch 200, Loss: 0.10898878425359726, Accuracy: 0.9375\n",
            "Epoch 19, Batch 250, Loss: 0.3473775386810303, Accuracy: 0.90625\n",
            "Epoch 19, Batch 300, Loss: 0.025120019912719727, Accuracy: 1.0\n",
            "Epoch 19, Batch 350, Loss: 0.05950571596622467, Accuracy: 1.0\n",
            "Epoch 19, Batch 0, Loss: 0.002068202244117856, Accuracy: 1.0\n",
            "Epoch 19, Batch 50, Loss: 0.16437406837940216, Accuracy: 0.96875\n",
            "Epoch 20, Train Loss: 0.1777740865945816, Train Accuracy: 0.9468749761581421, Valid Loss: 0.17192257940769196, Valid Accuracy: 0.948320209980011\n"
          ]
        }
      ],
      "source": [
        "# Train the model\n",
        "\n",
        "num_epochs = 20\n",
        "\n",
        "train_losses = []\n",
        "train_accuracies = []\n",
        "\n",
        "valid_losses = []\n",
        "valid_accuracies = []\n",
        "\n",
        "for epoch in range(num_epochs):\n",
        "    train_loss, train_accuracy = train(classifier,train_dataloader,epoch)\n",
        "    valid_loss, valid_accuracy = validate(classifier,valid_dataloader,epoch)\n",
        "\n",
        "    train_losses.append(train_loss)\n",
        "    train_accuracies.append(train_accuracy)\n",
        "\n",
        "    valid_losses.append(valid_loss)\n",
        "    valid_accuracies.append(valid_accuracy)\n",
        "\n",
        "    print(f\"Epoch {epoch+1}, Train Loss: {train_loss}, Train Accuracy: {train_accuracy}, Valid Loss: {valid_loss}, Valid Accuracy: {valid_accuracy}\")\n",
        "\n",
        "torch.save(classifier.state_dict(),'pointnetclassifier.pth')\n",
        "\n"
      ]
    },
    {
      "cell_type": "code",
      "source": [
        "#plot loss\n",
        "import matplotlib.pyplot as plt\n",
        "\n",
        "plt.figure(figsize=(10, 5))\n",
        "plt.title(\"Training Loss and Validation Loss\")\n",
        "plt.plot(train_losses, label='Training Loss')\n",
        "plt.plot(valid_losses, label='Validation Loss')\n",
        "plt.ylabel('Loss')\n",
        "plt.xlabel('Epochs')\n",
        "plt.legend()\n",
        "plt.show()"
      ],
      "metadata": {
        "colab": {
          "base_uri": "https://localhost:8080/",
          "height": 450
        },
        "id": "We5ZhcR3kgz2",
        "outputId": "b6ac089b-891e-49b6-cfc9-10550a8ddb4f"
      },
      "execution_count": null,
      "outputs": [
        {
          "output_type": "display_data",
          "data": {
            "text/plain": [
              "<Figure size 1000x500 with 1 Axes>"
            ],
            "image/png": "[encoded data removed]"
          },
          "metadata": {}
        }
      ]
    },
    {
      "cell_type": "code",
      "source": [
        "import matplotlib.pyplot as plt\n",
        "\n",
        "plt.figure(figsize=(10, 5))\n",
        "plt.title(\"Training and Validation Accuracy\")\n",
        "plt.plot(train_accuracies, label='Training Accuracy')\n",
        "plt.plot(valid_accuracies, label='Validation Accuracy')\n",
        "plt.ylabel('Accuracy')\n",
        "plt.xlabel('Epochs')\n",
        "plt.legend()\n",
        "plt.show()"
      ],
      "metadata": {
        "id": "1Nl8xmnNk4Np",
        "outputId": "b203b796-c863-4fde-cb5f-765363913afb",
        "colab": {
          "base_uri": "https://localhost:8080/",
          "height": 445
        }
      },
      "execution_count": null,
      "outputs": [
        {
          "output_type": "display_data",
          "data": {
            "text/plain": [
              "<Figure size 1000x500 with 1 Axes>"
            ],
            "image/png": "[encoded data removed]"
          },
          "metadata": {}
        }
      ]
    },
    {
      "cell_type": "markdown",
      "source": [
        "# Testing"
      ],
      "metadata": {
        "id": "0_0-HP2jMY12"
      }
    },
    {
      "cell_type": "code",
      "source": [
        "from sklearn.metrics import confusion_matrix\n",
        "import matplotlib.pyplot as plt\n",
        "import seaborn as sns\n",
        "\n",
        "# Test function to evaluate classifier and generate confusion matrix\n",
        "def test_classifier(classifier, dataloader):\n",
        "    all_preds = []\n",
        "    all_targets = []\n",
        "\n",
        "    classifier.eval()\n",
        "    with torch.no_grad():\n",
        "        for points, targets in dataloader:\n",
        "            points = points.transpose(2, 1).to(DEVICE)\n",
        "            targets = targets.squeeze().to(DEVICE)\n",
        "            # print(points.shape)\n",
        "            preds, _, _, _ = classifier(points)\n",
        "\n",
        "            predicted_class = torch.softmax(preds, dim=1).argmax(dim=1)\n",
        "\n",
        "            all_preds.extend(predicted_class.cpu().numpy())\n",
        "            all_targets.extend(targets.cpu().numpy())\n",
        "\n",
        "    # Calculate accuracy\n",
        "    accuracy = np.mean(np.array(all_preds) == np.array(all_targets))\n",
        "\n",
        "    # Generate confusion matrix\n",
        "    cm = confusion_matrix(all_targets, all_preds)\n",
        "\n",
        "    return cm, accuracy\n",
        "\n",
        "    # # Plot confusion matrix\n",
        "    # plt.figure(figsize=(8, 6))\n",
        "    # sns.heatmap(cm, annot=True, fmt='d', cmap='Blues', xticklabels=True, yticklabels=True)\n",
        "    # plt.xlabel('Predicted')\n",
        "    # plt.ylabel('True')\n",
        "    # plt.title('Confusion Matrix')\n",
        "    # plt.show()\n",
        "\n",
        "    # print(f\"Overall Accuracy: {accuracy}\")"
      ],
      "metadata": {
        "id": "HHzsv61iyP2e"
      },
      "execution_count": null,
      "outputs": []
    },
    {
      "cell_type": "code",
      "source": [
        "classifier = PointNetClas(num_points=10000,num_global_ftrs=1024, num_classes=16).to(DEVICE)\n",
        "classifier.load_state_dict(torch.load(\"/content/pointnetclassifier.pth\", map_location=DEVICE))"
      ],
      "metadata": {
        "colab": {
          "base_uri": "https://localhost:8080/"
        },
        "id": "OBWHc9Mb0mF-",
        "outputId": "71a7d855-88fe-4f1a-9533-1c08e1f14f8b"
      },
      "execution_count": null,
      "outputs": [
        {
          "output_type": "execute_result",
          "data": {
            "text/plain": [
              "<All keys matched successfully>"
            ]
          },
          "metadata": {},
          "execution_count": 31
        }
      ]
    },
    {
      "cell_type": "code",
      "source": [
        "cm,accuracy = test_classifier(classifier, test_dataloader)\n",
        "print(\"Test accuracy is: \", accuracy)"
      ],
      "metadata": {
        "colab": {
          "base_uri": "https://localhost:8080/"
        },
        "id": "1Y6SZXa31uWr",
        "outputId": "f7d067ff-ae87-46a2-960f-5cd3272613e3"
      },
      "execution_count": null,
      "outputs": [
        {
          "output_type": "stream",
          "name": "stdout",
          "text": [
            "Test accuracy is:  0.8472512178148921\n"
          ]
        }
      ]
    },
    {
      "cell_type": "code",
      "source": [
        "category_map = {\n",
        "    'Airplane': '02691156',\n",
        "    'Bag': '02773838',\n",
        "    'Cap': '02954340',\n",
        "    'Car': '02958343',\n",
        "    'Chair': '03001627',\n",
        "    'Earphone': '03261776',\n",
        "    'Guitar': '03467517',\n",
        "    'Knife': '03624134',\n",
        "    'Lamp': '03636649',\n",
        "    'Laptop': '03642806',\n",
        "    'Motorbike': '03790512',\n",
        "    'Mug': '03797390',\n",
        "    'Pistol': '03948459',\n",
        "    'Rocket': '04099429',\n",
        "    'Skateboard': '04225987',\n",
        "    'Table': '04379243'\n",
        "}"
      ],
      "metadata": {
        "id": "KjtVNqA47e3K"
      },
      "execution_count": null,
      "outputs": []
    },
    {
      "cell_type": "code",
      "source": [
        "import matplotlib.pyplot as plt\n",
        "import itertools\n",
        "\n",
        "# Function to display confusion matrix\n",
        "def plot_confusion_matrix(cm, classes, normalize=False, title='Confusion matrix', cmap=plt.cm.Blues):\n",
        "    if normalize:\n",
        "        cm = cm.astype('float') / cm.sum(axis=1)[:, np.newaxis]\n",
        "        print(\"Normalized confusion matrix\")\n",
        "    else:\n",
        "        print('Confusion matrix, without normalization')\n",
        "\n",
        "    plt.figure(figsize=(10, 8))  # Adjust the figure size as needed\n",
        "    plt.imshow(cm, interpolation='nearest', cmap=cmap)\n",
        "    plt.title(title)\n",
        "    plt.colorbar()\n",
        "    tick_marks = np.arange(len(classes))\n",
        "    plt.xticks(tick_marks, classes, rotation=45)\n",
        "    plt.yticks(tick_marks, classes)\n",
        "\n",
        "    fmt = '.2f' if normalize else 'd'\n",
        "    thresh = cm.max() / 2.\n",
        "    for i, j in itertools.product(range(cm.shape[0]), range(cm.shape[1])):\n",
        "        plt.text(j, i, format(cm[i, j], fmt), horizontalalignment=\"center\", color=\"white\" if cm[i, j] > thresh else \"black\")\n",
        "\n",
        "    plt.tight_layout()\n",
        "    plt.ylabel('True label')\n",
        "    plt.xlabel('Predicted label')\n",
        "\n",
        "# Plot the confusion matrix\n",
        "plot_confusion_matrix(cm, classes=category_map.keys(), normalize=True)  # Adjust normalize=True/False as needed\n",
        "plt.show()"
      ],
      "metadata": {
        "colab": {
          "base_uri": "https://localhost:8080/",
          "height": 863
        },
        "id": "xo7inp7i7lPo",
        "outputId": "05369874-08af-4e56-ee99-be35e9b7b6da"
      },
      "execution_count": null,
      "outputs": [
        {
          "output_type": "stream",
          "name": "stdout",
          "text": [
            "Normalized confusion matrix\n"
          ]
        },
        {
          "output_type": "display_data",
          "data": {
            "text/plain": [
              "<Figure size 1000x800 with 2 Axes>"
            ],
            "image/png": "[encoded data removed]"
          },
          "metadata": {}
        }
      ]
    }
  ],
  "metadata": {
    "kernelspec": {
      "display_name": "Python 3",
      "name": "python3"
    },
    "language_info": {
      "codemirror_mode": {
        "name": "ipython",
        "version": 3
      },
      "file_extension": ".py",
      "mimetype": "text/x-python",
      "name": "python",
      "nbconvert_exporter": "python",
      "pygments_lexer": "ipython3",
      "version": "3.8.10"
    },
    "colab": {
      "provenance": [],
      "gpuType": "T4",
      "toc_visible": true,
      "include_colab_link": true
    },
    "accelerator": "GPU"
  },
  "nbformat": 4,
  "nbformat_minor": 0
}